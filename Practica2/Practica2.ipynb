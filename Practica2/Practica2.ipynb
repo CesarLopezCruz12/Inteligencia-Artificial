{
  "nbformat": 4,
  "nbformat_minor": 0,
  "metadata": {
    "colab": {
      "provenance": []
    },
    "kernelspec": {
      "name": "python3",
      "display_name": "Python 3"
    },
    "language_info": {
      "name": "python"
    }
  },
  "cells": [
    {
      "cell_type": "markdown",
      "source": [
        "arbol.py"
      ],
      "metadata": {
        "id": "exESTajuAljy"
      }
    },
    {
      "cell_type": "code",
      "execution_count": null,
      "metadata": {
        "id": "Ku16tnYIAf_G"
      },
      "outputs": [],
      "source": [
        "class Nodo:\n",
        "    def __init__(self, datos, hijos=None):\n",
        "        self.datos = datos\n",
        "        self.hijos = []\n",
        "        self.padre = None\n",
        "        self.coste = None\n",
        "        self.set_hijos(hijos)\n",
        "\n",
        "    def set_hijos(self, hijos):\n",
        "        self.hijos = hijos\n",
        "        if self.hijos != None:\n",
        "            for h in self.hijos:\n",
        "                h.padre = self\n",
        "\n",
        "    def get_hijos(self):\n",
        "        return self.hijos\n",
        "\n",
        "    def get_padre(self):\n",
        "        return self.padre\n",
        "\n",
        "    def set_padre(self, padre):\n",
        "        self.padre = padre\n",
        "\n",
        "    def set_datos(self, datos):\n",
        "        self.datos = datos\n",
        "\n",
        "    def get_datos(self):\n",
        "        return self.datos\n",
        "\n",
        "    def set_coste(self, coste):\n",
        "        self.coste = coste\n",
        "\n",
        "    def get_coste(self):\n",
        "        return self.coste\n",
        "\n",
        "    def igual(self, nodo):\n",
        "        if self.get_datos() == nodo.get_datos():\n",
        "            return True\n",
        "        else:\n",
        "            return False\n",
        "\n",
        "    def en_lista(self, lista_nodos):\n",
        "        en_la_lista = False\n",
        "        for n in lista_nodos:\n",
        "            if self.igual(n):\n",
        "                en_la_lista = True\n",
        "        return en_la_lista\n",
        "\n",
        "    def __str__(self):\n",
        "        return str(self.get_datos())"
      ]
    },
    {
      "cell_type": "markdown",
      "source": [
        "puzzle-4py"
      ],
      "metadata": {
        "id": "SEmSWz-SAwZt"
      }
    },
    {
      "cell_type": "code",
      "source": [
        "# Puzle Lineal con búsqueda en profundidad\n",
        "\n",
        "def buscar_solucion_DFS(estado_inicial, solucion):\n",
        "    solucionado = False\n",
        "    nodos_visitados = []\n",
        "    nodos_frontera = []\n",
        "    nodoInicial = Nodo(estado_inicial)\n",
        "    nodos_frontera.append(nodoInicial)\n",
        "\n",
        "    while (not solucionado) and len(nodos_frontera) != 0:\n",
        "        nodo = nodos_frontera.pop()\n",
        "        # extraer nodo y añadirlo a visitados\n",
        "        nodos_visitados.append(nodo)\n",
        "\n",
        "        if nodo.get_datos() == solucion:\n",
        "            # solución encontrada\n",
        "            solucionado = True\n",
        "            return nodo\n",
        "        else:\n",
        "            # expandir nodos hijo\n",
        "            dato_nodo = nodo.get_datos()\n",
        "            # operador izquierdo\n",
        "            hijo = [dato_nodo[1], dato_nodo[0], dato_nodo[2], dato_nodo[3]]\n",
        "            hijo_izquierdo = Nodo(hijo)\n",
        "            if not hijo_izquierdo.en_lista(nodos_visitados) \\\n",
        "                    and not hijo_izquierdo.en_lista(nodos_frontera):\n",
        "                nodos_frontera.append(hijo_izquierdo)\n",
        "            # operador central\n",
        "            hijo = [dato_nodo[0], dato_nodo[2], dato_nodo[1], dato_nodo[3]]\n",
        "            hijo_central = Nodo(hijo)\n",
        "            if not hijo_central.en_lista(nodos_visitados) \\\n",
        "                    and not hijo_central.en_lista(nodos_frontera):\n",
        "                nodos_frontera.append(hijo_central)\n",
        "            # operador derecho\n",
        "            hijo = [dato_nodo[0], dato_nodo[1], dato_nodo[3], dato_nodo[2]]\n",
        "            hijo_derecho = Nodo(hijo)\n",
        "            if not hijo_derecho.en_lista(nodos_visitados) \\\n",
        "                    and not hijo_derecho.en_lista(nodos_frontera):\n",
        "                nodos_frontera.append(hijo_derecho)\n",
        "\n",
        "\n",
        "            nodo.set_hijos([hijo_izquierdo, hijo_central, hijo_derecho])\n",
        "\n",
        "\n",
        "\n",
        "if __name__ == \"__main__\":\n",
        "    estado_inicial=[4,2,3,1]\n",
        "    solucion=[1,2,3,4]\n",
        "    nodo_solucion = buscar_solucion_DFS(estado_inicial, solucion)\n",
        "    # mostrar resultado\n",
        "    resultado=[]\n",
        "    nodo=nodo_solucion\n",
        "    while nodo.get_padre() != None:\n",
        "        resultado.append(nodo.get_datos())\n",
        "        nodo = nodo.get_padre()\n",
        "\n",
        "    resultado.append(estado_inicial)\n",
        "    resultado.reverse()\n",
        "    print(resultado)"
      ],
      "metadata": {
        "colab": {
          "base_uri": "https://localhost:8080/"
        },
        "id": "ZCBJuceCAxrI",
        "outputId": "f8e7c4bb-0be5-4970-d63c-368b13c20c78"
      },
      "execution_count": null,
      "outputs": [
        {
          "output_type": "stream",
          "name": "stdout",
          "text": [
            "[[4, 2, 3, 1], [4, 2, 1, 3], [4, 1, 2, 3], [4, 1, 3, 2], [4, 3, 1, 2], [3, 4, 1, 2], [3, 4, 2, 1], [3, 2, 4, 1], [3, 2, 1, 4], [3, 1, 2, 4], [1, 3, 2, 4], [1, 2, 3, 4]]\n"
          ]
        }
      ]
    },
    {
      "cell_type": "markdown",
      "source": [
        "Laberinto.py"
      ],
      "metadata": {
        "id": "OmQ_5XeOA27V"
      }
    },
    {
      "cell_type": "code",
      "source": [
        "def solve_maze(maze, start, end):\n",
        "    stack = [start]\n",
        "    while stack:\n",
        "        x, y = stack[-1]\n",
        "\n",
        "        # If reached the end point\n",
        "        if (x, y) == end:\n",
        "            return True, stack\n",
        "\n",
        "        # Mark as visited\n",
        "        maze[x][y] = '2'\n",
        "\n",
        "        for dx, dy in [(0, 1), (1, 0), (0, -1), (-1, 0)]:\n",
        "            nx, ny = x + dx, y + dy\n",
        "\n",
        "            if 0 <= nx < len(maze) and 0 <= ny < len(maze[0]):\n",
        "                if maze[nx][ny] == '0' or maze[nx][ny] == 'E':\n",
        "                    stack.append((nx, ny))\n",
        "                    break\n",
        "        else:\n",
        "            stack.pop()\n",
        "\n",
        "    return False, []\n",
        "\n",
        "\n",
        "if __name__ == \"__main__\":\n",
        "    # 0 = open path, 1 = wall, S = start, E = end\n",
        "    maze = [\n",
        "        ['1', '1', '1', '1', '1'],\n",
        "        ['S', '0', '1', '0', '1'],\n",
        "        ['1', '0', '1', '0', '1'],\n",
        "        ['1', '0', '0', '0', 'E'],\n",
        "        ['1', '1', '1', '1', '1']\n",
        "    ]\n",
        "\n",
        "    start = (1, 0)\n",
        "    end = (3, 4)\n",
        "    solved, path = solve_maze(maze, start, end)\n",
        "\n",
        "    if solved:\n",
        "        print(\"Maze Solved!\")\n",
        "        for x, y in path:\n",
        "            if maze[x][y] != 'S' and maze[x][y] != 'E':\n",
        "                maze[x][y] = '*'\n",
        "        for row in maze:\n",
        "            print(\"\".join(row))\n",
        "    else:\n",
        "        print(\"No solution found.\")"
      ],
      "metadata": {
        "colab": {
          "base_uri": "https://localhost:8080/"
        },
        "id": "z5p-KMMvA310",
        "outputId": "b07ff734-55a9-4b0f-e9be-810bef3e236f"
      },
      "execution_count": null,
      "outputs": [
        {
          "output_type": "stream",
          "name": "stdout",
          "text": [
            "Maze Solved!\n",
            "11111\n",
            "**101\n",
            "1*101\n",
            "1***E\n",
            "11111\n"
          ]
        }
      ]
    },
    {
      "cell_type": "markdown",
      "source": [
        "laberinto-modificado.py"
      ],
      "metadata": {
        "id": "7nTnulLrCm7T"
      }
    },
    {
      "cell_type": "code",
      "source": [
        "import time\n",
        "\n",
        "def solve_maze(maze, start, end):\n",
        "    stack = [start]\n",
        "    while stack:\n",
        "        x, y = stack[-1]\n",
        "\n",
        "        # If reached the end point\n",
        "        if (x, y) == end:\n",
        "            return True, stack\n",
        "\n",
        "        # Mark as visited\n",
        "        maze[x][y] = '2'\n",
        "\n",
        "        for dx, dy in [(0, 1), (1, 0), (0, -1), (-1, 0)]:\n",
        "            nx, ny = x + dx, y + dy\n",
        "\n",
        "            if 0 <= nx < len(maze) and 0 <= ny < len(maze[0]):\n",
        "                if maze[nx][ny] == '0' or maze[nx][ny] == 'E':\n",
        "                    stack.append((nx, ny))\n",
        "                    break\n",
        "        else:\n",
        "            stack.pop()\n",
        "\n",
        "    return False, []\n",
        "\n",
        "def print_maze(maze):\n",
        "    for row in maze:\n",
        "        print(\"\".join(row))\n",
        "\n",
        "if __name__ == \"__main__\":\n",
        "    # Modificación 1: Tamaño del laberinto\n",
        "    maze_large = [\n",
        "        ['1', '1', '1', '1', '1', '1', '1'],\n",
        "        ['S', '0', '0', '0', '0', '0', '1'],\n",
        "        ['1', '1', '1', '0', '1', '0', '1'],\n",
        "        ['1', '0', '0', '0', '1', '0', '1'],\n",
        "        ['1', '0', '1', '1', '1', '0', '1'],\n",
        "        ['1', '0', '0', '0', '0', '0', 'E'],\n",
        "        ['1', '1', '1', '1', '1', '1', '1']\n",
        "    ]\n",
        "\n",
        "    start = (1, 0)\n",
        "    end = (5, 6)\n",
        "\n",
        "    start_time = time.time()\n",
        "    solved, path = solve_maze(maze_large, start, end)\n",
        "    end_time = time.time()\n",
        "\n",
        "    if solved:\n",
        "        print(\"Maze Solved!\")\n",
        "        for x, y in path:\n",
        "            if maze_large[x][y] != 'S' and maze_large[x][y] != 'E':\n",
        "                maze_large[x][y] = '*'\n",
        "        print_maze(maze_large)\n",
        "    else:\n",
        "        print(\"No solution found.\")\n",
        "\n",
        "    print(\"Time taken for large maze: {:.5f} seconds\\n\".format(end_time - start_time))\n",
        "\n",
        "    # Modificación 2: Aumentar complejidad del laberinto\n",
        "    maze_complex = [\n",
        "        ['1', '1', '1', '1', '1', '1', '1'],\n",
        "        ['S', '0', '1', '0', '0', '1', '1'],\n",
        "        ['1', '0', '0', '0', '1', '0', '1'],\n",
        "        ['1', '0', '1', '0', '1', '0', '1'],\n",
        "        ['1', '0', '1', '1', '0', '0', '1'],\n",
        "        ['1', '0', '0', '0', '0', '0', 'E'],\n",
        "        ['1', '1', '1', '1', '1', '1', '1']\n",
        "    ]\n",
        "\n",
        "    end = (5, 6)\n",
        "\n",
        "    start_time = time.time()\n",
        "    solved, path = solve_maze(maze_complex, start, end)\n",
        "    end_time = time.time()\n",
        "\n",
        "    if solved:\n",
        "        print(\"Maze Solved!\")\n",
        "        for x, y in path:\n",
        "            if maze_complex[x][y] != 'S' and maze_complex[x][y] != 'E':\n",
        "                maze_complex[x][y] = '*'\n",
        "        print_maze(maze_complex)\n",
        "    else:\n",
        "        print(\"No solution found.\")\n",
        "\n",
        "    print(\"Time taken for complex maze: {:.5f} seconds\\n\".format(end_time - start_time))\n",
        "\n",
        "    # Modificación 3: Laberinto sin solución\n",
        "    maze_no_solution = [\n",
        "        ['1', '1', '1', '1', '1'],\n",
        "        ['S', '0', '1', '0', '1'],\n",
        "        ['1', '0', '1', '0', '1'],\n",
        "        ['1', '0', '1', '0', '1'],\n",
        "        ['1', '1', '1', '1', 'E']\n",
        "    ]\n",
        "\n",
        "    end = (4, 4)\n",
        "\n",
        "    start_time = time.time()\n",
        "    solved, path = solve_maze(maze_no_solution, start, end)\n",
        "    end_time = time.time()\n",
        "\n",
        "    if solved:\n",
        "        print(\"Maze Solved!\")\n",
        "        for x, y in path:\n",
        "            if maze_no_solution[x][y] != 'S' and maze_no_solution[x][y] != 'E':\n",
        "                maze_no_solution[x][y] = '*'\n",
        "        print_maze(maze_no_solution)\n",
        "    else:\n",
        "        print(\"No solution found.\")\n",
        "\n",
        "    print(\"Time taken for unsolvable maze: {:.5f} seconds\\n\".format(end_time - start_time))\n",
        "\n"
      ],
      "metadata": {
        "colab": {
          "base_uri": "https://localhost:8080/"
        },
        "id": "W8BPD6OjCpI2",
        "outputId": "df2d993e-0aa9-419d-994e-4599a82efa4a"
      },
      "execution_count": null,
      "outputs": [
        {
          "output_type": "stream",
          "name": "stdout",
          "text": [
            "Maze Solved!\n",
            "1111111\n",
            "******1\n",
            "11101*1\n",
            "10001*1\n",
            "10111*1\n",
            "10000*E\n",
            "1111111\n",
            "Time taken for large maze: 0.00001 seconds\n",
            "\n",
            "Maze Solved!\n",
            "1111111\n",
            "**12211\n",
            "1*22101\n",
            "1*12101\n",
            "1*11001\n",
            "1*****E\n",
            "1111111\n",
            "Time taken for complex maze: 0.00005 seconds\n",
            "\n",
            "No solution found.\n",
            "Time taken for unsolvable maze: 0.00003 seconds\n",
            "\n"
          ]
        }
      ]
    }
  ]
}